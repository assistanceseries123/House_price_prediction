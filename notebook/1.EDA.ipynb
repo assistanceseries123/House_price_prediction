{
 "cells": [
  {
   "cell_type": "code",
   "execution_count": 1,
   "metadata": {},
   "outputs": [],
   "source": [
    "import pandas as pd\n",
    "import numpy as np\n",
    "import matplotlib.pyplot as plt\n",
    "import seaborn as sns\n",
    "%matplotlib inline\n",
    "pd.set_option('display.max_columns',None)\n",
    "pd.set_option('display.max_rows',None)"
   ]
  },
  {
   "cell_type": "code",
   "execution_count": 5,
   "metadata": {},
   "outputs": [
    {
     "data": {
      "text/html": [
       "<div>\n",
       "<style scoped>\n",
       "    .dataframe tbody tr th:only-of-type {\n",
       "        vertical-align: middle;\n",
       "    }\n",
       "\n",
       "    .dataframe tbody tr th {\n",
       "        vertical-align: top;\n",
       "    }\n",
       "\n",
       "    .dataframe thead th {\n",
       "        text-align: right;\n",
       "    }\n",
       "</style>\n",
       "<table border=\"1\" class=\"dataframe\">\n",
       "  <thead>\n",
       "    <tr style=\"text-align: right;\">\n",
       "      <th></th>\n",
       "      <th>model</th>\n",
       "      <th>price</th>\n",
       "      <th>rating</th>\n",
       "      <th>sim</th>\n",
       "      <th>processor</th>\n",
       "      <th>ram</th>\n",
       "      <th>battery</th>\n",
       "      <th>display</th>\n",
       "      <th>camera</th>\n",
       "      <th>card</th>\n",
       "      <th>os</th>\n",
       "    </tr>\n",
       "  </thead>\n",
       "  <tbody>\n",
       "    <tr>\n",
       "      <th>0</th>\n",
       "      <td>OnePlus 11 5G</td>\n",
       "      <td>₹54,999</td>\n",
       "      <td>89.0</td>\n",
       "      <td>Dual Sim, 3G, 4G, 5G, VoLTE, Wi-Fi, NFC</td>\n",
       "      <td>Snapdragon 8 Gen2, Octa Core, 3.2 GHz Processor</td>\n",
       "      <td>12 GB RAM, 256 GB inbuilt</td>\n",
       "      <td>5000 mAh Battery with 100W Fast Charging</td>\n",
       "      <td>6.7 inches, 1440 x 3216 px, 120 Hz Display wit...</td>\n",
       "      <td>50 MP + 48 MP + 32 MP Triple Rear &amp; 16 MP Fron...</td>\n",
       "      <td>Memory Card Not Supported</td>\n",
       "      <td>Android v13</td>\n",
       "    </tr>\n",
       "    <tr>\n",
       "      <th>1</th>\n",
       "      <td>OnePlus Nord CE 2 Lite 5G</td>\n",
       "      <td>₹19,989</td>\n",
       "      <td>81.0</td>\n",
       "      <td>Dual Sim, 3G, 4G, 5G, VoLTE, Wi-Fi</td>\n",
       "      <td>Snapdragon 695, Octa Core, 2.2 GHz Processor</td>\n",
       "      <td>6 GB RAM, 128 GB inbuilt</td>\n",
       "      <td>5000 mAh Battery with 33W Fast Charging</td>\n",
       "      <td>6.59 inches, 1080 x 2412 px, 120 Hz Display wi...</td>\n",
       "      <td>64 MP + 2 MP + 2 MP Triple Rear &amp; 16 MP Front ...</td>\n",
       "      <td>Memory Card (Hybrid), upto 1 TB</td>\n",
       "      <td>Android v12</td>\n",
       "    </tr>\n",
       "  </tbody>\n",
       "</table>\n",
       "</div>"
      ],
      "text/plain": [
       "                       model    price  rating  \\\n",
       "0              OnePlus 11 5G  ₹54,999    89.0   \n",
       "1  OnePlus Nord CE 2 Lite 5G  ₹19,989    81.0   \n",
       "\n",
       "                                       sim  \\\n",
       "0  Dual Sim, 3G, 4G, 5G, VoLTE, Wi-Fi, NFC   \n",
       "1       Dual Sim, 3G, 4G, 5G, VoLTE, Wi-Fi   \n",
       "\n",
       "                                         processor                        ram  \\\n",
       "0  Snapdragon 8 Gen2, Octa Core, 3.2 GHz Processor  12 GB RAM, 256 GB inbuilt   \n",
       "1     Snapdragon 695, Octa Core, 2.2 GHz Processor   6 GB RAM, 128 GB inbuilt   \n",
       "\n",
       "                                    battery  \\\n",
       "0  5000 mAh Battery with 100W Fast Charging   \n",
       "1   5000 mAh Battery with 33W Fast Charging   \n",
       "\n",
       "                                             display  \\\n",
       "0  6.7 inches, 1440 x 3216 px, 120 Hz Display wit...   \n",
       "1  6.59 inches, 1080 x 2412 px, 120 Hz Display wi...   \n",
       "\n",
       "                                              camera  \\\n",
       "0  50 MP + 48 MP + 32 MP Triple Rear & 16 MP Fron...   \n",
       "1  64 MP + 2 MP + 2 MP Triple Rear & 16 MP Front ...   \n",
       "\n",
       "                              card           os  \n",
       "0        Memory Card Not Supported  Android v13  \n",
       "1  Memory Card (Hybrid), upto 1 TB  Android v12  "
      ]
     },
     "execution_count": 5,
     "metadata": {},
     "output_type": "execute_result"
    }
   ],
   "source": [
    "df=pd.read_csv('data/smartphones - smartphones.csv')\n",
    "df.head(2)"
   ]
  },
  {
   "cell_type": "code",
   "execution_count": null,
   "metadata": {},
   "outputs": [],
   "source": []
  }
 ],
 "metadata": {
  "kernelspec": {
   "display_name": "env",
   "language": "python",
   "name": "python3"
  },
  "language_info": {
   "codemirror_mode": {
    "name": "ipython",
    "version": 3
   },
   "file_extension": ".py",
   "mimetype": "text/x-python",
   "name": "python",
   "nbconvert_exporter": "python",
   "pygments_lexer": "ipython3",
   "version": "3.11.3"
  }
 },
 "nbformat": 4,
 "nbformat_minor": 2
}
